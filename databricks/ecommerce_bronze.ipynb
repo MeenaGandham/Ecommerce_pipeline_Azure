{
 "cells": [
  {
   "cell_type": "code",
   "execution_count": 0,
   "metadata": {
    "application/vnd.databricks.v1+cell": {
     "cellMetadata": {
      "byteLimit": 2048000,
      "rowLimit": 10000
     },
     "inputWidgets": {},
     "nuid": "6358e61e-698d-437b-bf00-e4bb79f795b6",
     "showTitle": false,
     "tableResultSettingsMap": {},
     "title": ""
    }
   },
   "outputs": [
    {
     "output_type": "stream",
     "name": "stdout",
     "output_type": "stream",
     "text": [
      "Mount point /mnt/ecomdata1 already exists.\n"
     ]
    }
   ],
   "source": [
    "# Check if the mount point exists\n",
    "mount_point = \"/mnt/ecomdata1\"\n",
    "\n",
    "if any(mount.mountPoint == mount_point for mount in dbutils.fs.mounts()):\n",
    "    print(f\"Mount point {mount_point} already exists.\")\n",
    "else:\n",
    "    # Perform mounting only if it doesn't exist\n",
    "    configs = {\n",
    "        \"fs.azure.account.auth.type\": \"OAuth\",\n",
    "        \"fs.azure.account.oauth.provider.type\": \"org.apache.hadoop.fs.azurebfs.oauth2.ClientCredsTokenProvider\",\n",
    "        \"fs.azure.account.oauth2.client.id\": \"your-client-id\",\n",
    "        \"fs.azure.account.oauth2.client.secret\": \"your-client-secret\",\n",
    "        \"fs.azure.account.oauth2.client.endpoint\": \"https://login.microsoftonline.com/your-tenant-id/oauth2/token\"\n",
    "    }\n",
    "\n",
    "    dbutils.fs.mount(\n",
    "        source=\"abfss://landingzone2@ecommerceversion007.dfs.core.windows.net/\",\n",
    "        mount_point=mount_point,\n",
    "        extra_configs=configs\n",
    "    )\n",
    "    print(\"Storage mounted successfully.\")\n"
   ]
  },
  {
   "cell_type": "code",
   "execution_count": 0,
   "metadata": {
    "application/vnd.databricks.v1+cell": {
     "cellMetadata": {
      "byteLimit": 2048000,
      "rowLimit": 10000
     },
     "inputWidgets": {},
     "nuid": "9d97a0c4-4fd6-4785-aa9a-ca34da2e2409",
     "showTitle": false,
     "tableResultSettingsMap": {},
     "title": ""
    }
   },
   "outputs": [
    {
     "output_type": "display_data",
     "data": {
      "text/html": [
       "<style scoped>\n",
       "  .table-result-container {\n",
       "    max-height: 300px;\n",
       "    overflow: auto;\n",
       "  }\n",
       "  table, th, td {\n",
       "    border: 1px solid black;\n",
       "    border-collapse: collapse;\n",
       "  }\n",
       "  th, td {\n",
       "    padding: 5px;\n",
       "  }\n",
       "  th {\n",
       "    text-align: left;\n",
       "  }\n",
       "</style><div class='table-result-container'><table class='table-result'><thead style='background-color: white'><tr><th>path</th><th>name</th><th>size</th><th>modificationTime</th></tr></thead><tbody><tr><td>dbfs:/mnt/ecomdata1/buyers_raw_2/</td><td>buyers_raw_2/</td><td>0</td><td>1737860552000</td></tr><tr><td>dbfs:/mnt/ecomdata1/countries_raw_2/</td><td>countries_raw_2/</td><td>0</td><td>1737860564000</td></tr><tr><td>dbfs:/mnt/ecomdata1/sellers_raw_2/</td><td>sellers_raw_2/</td><td>0</td><td>1737860541000</td></tr><tr><td>dbfs:/mnt/ecomdata1/users_raw_2/</td><td>users_raw_2/</td><td>0</td><td>1737860532000</td></tr></tbody></table></div>"
      ]
     },
     "metadata": {
      "application/vnd.databricks.v1+output": {
       "addedWidgets": {},
       "aggData": [],
       "aggError": "",
       "aggOverflow": false,
       "aggSchema": [],
       "aggSeriesLimitReached": false,
       "aggType": "",
       "arguments": {},
       "columnCustomDisplayInfos": {},
       "data": [
        [
         "dbfs:/mnt/ecomdata1/buyers_raw_2/",
         "buyers_raw_2/",
         0,
         1737860552000
        ],
        [
         "dbfs:/mnt/ecomdata1/countries_raw_2/",
         "countries_raw_2/",
         0,
         1737860564000
        ],
        [
         "dbfs:/mnt/ecomdata1/sellers_raw_2/",
         "sellers_raw_2/",
         0,
         1737860541000
        ],
        [
         "dbfs:/mnt/ecomdata1/users_raw_2/",
         "users_raw_2/",
         0,
         1737860532000
        ]
       ],
       "datasetInfos": [],
       "dbfsResultPath": null,
       "isJsonSchema": true,
       "metadata": {
        "isDbfsCommandResult": false
       },
       "overflow": false,
       "plotOptions": {
        "customPlotOptions": {},
        "displayType": "table",
        "pivotAggregation": null,
        "pivotColumns": null,
        "xColumns": null,
        "yColumns": null
       },
       "removedWidgets": [],
       "schema": [
        {
         "metadata": "{}",
         "name": "path",
         "type": "\"string\""
        },
        {
         "metadata": "{}",
         "name": "name",
         "type": "\"string\""
        },
        {
         "metadata": "{}",
         "name": "size",
         "type": "\"long\""
        },
        {
         "metadata": "{}",
         "name": "modificationTime",
         "type": "\"long\""
        }
       ],
       "type": "table"
      }
     },
     "output_type": "display_data"
    }
   ],
   "source": [
    "%fs ls 'mnt/ecomdata1/'"
   ]
  },
  {
   "cell_type": "code",
   "execution_count": 0,
   "metadata": {
    "application/vnd.databricks.v1+cell": {
     "cellMetadata": {
      "byteLimit": 2048000,
      "rowLimit": 10000
     },
     "inputWidgets": {},
     "nuid": "1fc64bf9-e2ca-42e2-8002-dc06ac610cd3",
     "showTitle": false,
     "tableResultSettingsMap": {},
     "title": ""
    }
   },
   "outputs": [],
   "source": [
    "from pyspark.sql import SparkSession\n",
    "from pyspark.sql.functions import *\n",
    "from pyspark.sql.types import * "
   ]
  },
  {
   "cell_type": "code",
   "execution_count": 0,
   "metadata": {
    "application/vnd.databricks.v1+cell": {
     "cellMetadata": {
      "byteLimit": 2048000,
      "rowLimit": 10000
     },
     "inputWidgets": {},
     "nuid": "c2bbe605-0421-47d9-a05a-ed82c5b58a66",
     "showTitle": false,
     "tableResultSettingsMap": {},
     "title": ""
    }
   },
   "outputs": [],
   "source": [
    "spark = SparkSession.builder.appName(\"ecomdata\").getOrCreate()"
   ]
  },
  {
   "cell_type": "code",
   "execution_count": 0,
   "metadata": {
    "application/vnd.databricks.v1+cell": {
     "cellMetadata": {
      "byteLimit": 2048000,
      "rowLimit": 10000
     },
     "inputWidgets": {},
     "nuid": "359a1f10-fd33-426f-91be-4144a0fe7259",
     "showTitle": false,
     "tableResultSettingsMap": {},
     "title": ""
    }
   },
   "outputs": [
    {
     "output_type": "execute_result",
     "data": {
      "text/html": [
       "\n",
       "            <div>\n",
       "                <p><b>SparkSession - hive</b></p>\n",
       "                \n",
       "        <div>\n",
       "            <p><b>SparkContext</b></p>\n",
       "\n",
       "            <p><a href=\"/?o=2017146317685350#setting/sparkui/0126-064315-1phmxie5/driver-3564790888397364574\">Spark UI</a></p>\n",
       "\n",
       "            <dl>\n",
       "              <dt>Version</dt>\n",
       "                <dd><code>v3.4.1</code></dd>\n",
       "              <dt>Master</dt>\n",
       "                <dd><code>local[*, 4]</code></dd>\n",
       "              <dt>AppName</dt>\n",
       "                <dd><code>Databricks Shell</code></dd>\n",
       "            </dl>\n",
       "        </div>\n",
       "        \n",
       "            </div>\n",
       "        "
      ],
      "text/plain": [
       "<pyspark.sql.session.SparkSession at 0x7f0e95e73cd0>"
      ]
     },
     "execution_count": 17,
     "metadata": {},
     "output_type": "execute_result"
    }
   ],
   "source": [
    "spark"
   ]
  },
  {
   "cell_type": "code",
   "execution_count": 0,
   "metadata": {
    "application/vnd.databricks.v1+cell": {
     "cellMetadata": {
      "byteLimit": 2048000,
      "rowLimit": 10000
     },
     "inputWidgets": {},
     "nuid": "9db77c28-d1dc-461c-9403-79eadfcb9e77",
     "showTitle": false,
     "tableResultSettingsMap": {},
     "title": ""
    }
   },
   "outputs": [],
   "source": [
    "# Read parquet file from /mnt/ecomdata1/user-raw-2 folder\n",
    "userDF = spark.read.format('parquet').option('inferSchema', 'true').option('header', 'true')\\\n",
    "    .load('/mnt/ecomdata1/users_raw_2')\n",
    "\n",
    "# Step 2: Apply any necessary transformations (if applicable)\n",
    "# Example transformation: userDF = userDF.withColumn(\"processed_at\", current_timestamp())"
   ]
  },
  {
   "cell_type": "code",
   "execution_count": 0,
   "metadata": {
    "application/vnd.databricks.v1+cell": {
     "cellMetadata": {
      "byteLimit": 2048000,
      "rowLimit": 10000
     },
     "inputWidgets": {},
     "nuid": "a06ed14e-c8f5-445c-a572-7d66bf0dd4c0",
     "showTitle": false,
     "tableResultSettingsMap": {},
     "title": ""
    }
   },
   "outputs": [
    {
     "output_type": "stream",
     "name": "stdout",
     "output_type": "stream",
     "text": [
      "+--------------------+----+----------+--------+-----------------+---------------+-------------------+--------------+------------+----------------+--------------+--------------+------+----------------+-------------+---------+-------------+---------+-----------------+------------------+---------+-----------------+----------------+-----------+\n|      identifierHash|type|   country|language|socialNbFollowers|socialNbFollows|socialProductsLiked|productsListed|productsSold|productsPassRate|productsWished|productsBought|gender|civilityGenderId|civilityTitle|hasAnyApp|hasAndroidApp|hasIosApp|hasProfilePicture|daysSinceLastLogin|seniority|seniorityAsMonths|seniorityAsYears|countryCode|\n+--------------------+----+----------+--------+-----------------+---------------+-------------------+--------------+------------+----------------+--------------+--------------+------+----------------+-------------+---------+-------------+---------+-----------------+------------------+---------+-----------------+----------------+-----------+\n|-7279641312655250028|user|Etats-Unis|      en|                3|              8|                  0|             0|           0|             0.0|             0|             0|     F|               2|          mrs|    False|        False|    False|             True|               709|     3205|           106.83|             8.9|         us|\n|-1456013578740053406|user| Allemagne|      de|                3|              8|                  0|             0|           0|             0.0|             0|             0|     F|               2|          mrs|    False|        False|    False|             True|               709|     3205|           106.83|             8.9|         de|\n+--------------------+----+----------+--------+-----------------+---------------+-------------------+--------------+------------+----------------+--------------+--------------+------+----------------+-------------+---------+-------------+---------+-----------------+------------------+---------+-----------------+----------------+-----------+\nonly showing top 2 rows\n\n"
     ]
    }
   ],
   "source": [
    "userDF.show(2)"
   ]
  },
  {
   "cell_type": "code",
   "execution_count": 0,
   "metadata": {
    "application/vnd.databricks.v1+cell": {
     "cellMetadata": {
      "byteLimit": 2048000,
      "rowLimit": 10000
     },
     "inputWidgets": {},
     "nuid": "c62d6fce-ee7f-4400-a88e-a2dee42e7b4b",
     "showTitle": false,
     "tableResultSettingsMap": {},
     "title": ""
    }
   },
   "outputs": [
    {
     "output_type": "stream",
     "name": "stdout",
     "output_type": "stream",
     "text": [
      "root\n |-- identifierHash: string (nullable = true)\n |-- type: string (nullable = true)\n |-- country: string (nullable = true)\n |-- language: string (nullable = true)\n |-- socialNbFollowers: string (nullable = true)\n |-- socialNbFollows: string (nullable = true)\n |-- socialProductsLiked: string (nullable = true)\n |-- productsListed: string (nullable = true)\n |-- productsSold: string (nullable = true)\n |-- productsPassRate: string (nullable = true)\n |-- productsWished: string (nullable = true)\n |-- productsBought: string (nullable = true)\n |-- gender: string (nullable = true)\n |-- civilityGenderId: string (nullable = true)\n |-- civilityTitle: string (nullable = true)\n |-- hasAnyApp: string (nullable = true)\n |-- hasAndroidApp: string (nullable = true)\n |-- hasIosApp: string (nullable = true)\n |-- hasProfilePicture: string (nullable = true)\n |-- daysSinceLastLogin: string (nullable = true)\n |-- seniority: string (nullable = true)\n |-- seniorityAsMonths: string (nullable = true)\n |-- seniorityAsYears: string (nullable = true)\n |-- countryCode: string (nullable = true)\n\n"
     ]
    }
   ],
   "source": [
    "userDF.printSchema()"
   ]
  },
  {
   "cell_type": "code",
   "execution_count": 0,
   "metadata": {
    "application/vnd.databricks.v1+cell": {
     "cellMetadata": {
      "byteLimit": 2048000,
      "rowLimit": 10000
     },
     "inputWidgets": {},
     "nuid": "4529c97b-4559-43b9-9472-f7aac94a4201",
     "showTitle": false,
     "tableResultSettingsMap": {},
     "title": ""
    }
   },
   "outputs": [],
   "source": [
    "countriesDF = spark.read.format('parquet').option('inferSchema', 'true').option('header', 'true')\\\n",
    "    .load('/mnt/ecomdata1/countries_raw_2')\n",
    "\n",
    "sellersDF = spark.read.format('parquet').option('inferSchema', 'true').option('header', 'true')\\\n",
    "    .load('/mnt/ecomdata1/sellers_raw_2')\n",
    "\n",
    "buyersDF = spark.read.format('parquet').option('inferSchema', 'true').option('header', 'true')\\\n",
    "    .load('/mnt/ecomdata1/buyers_raw_2')"
   ]
  },
  {
   "cell_type": "code",
   "execution_count": 0,
   "metadata": {
    "application/vnd.databricks.v1+cell": {
     "cellMetadata": {
      "byteLimit": 2048000,
      "rowLimit": 10000
     },
     "inputWidgets": {},
     "nuid": "63a72466-ac5e-4414-aa15-be337d42f192",
     "showTitle": false,
     "tableResultSettingsMap": {},
     "title": ""
    }
   },
   "outputs": [
    {
     "output_type": "stream",
     "name": "stdout",
     "output_type": "stream",
     "text": [
      "Merge operation completed successfully.\n"
     ]
    }
   ],
   "source": [
    "from delta.tables import DeltaTable\n",
    "# Define the Bronze table path\n",
    "bronze_users_path = '/mnt/delta/bronze/tables/users'\n",
    "\n",
    "#  Check if the Delta table already exists\n",
    "if DeltaTable.isDeltaTable(spark, bronze_users_path):\n",
    "    # Load the existing Delta table\n",
    "    bronze_table = DeltaTable.forPath(spark, bronze_users_path)\n",
    "\n",
    "    # Perform MERGE to handle both inserts and updates\n",
    "    bronze_table.alias(\"target\").merge(\n",
    "        userDF.alias(\"source\"),\n",
    "        \"target.identifierHash = source.identifierHash\"  # Matching condition based on hash\n",
    "    ).whenMatchedUpdateAll(  # Update all columns if user_id matches\n",
    "    ).whenNotMatchedInsertAll(  # Insert new records if no match is found\n",
    "    ).execute()\n",
    "\n",
    "    print(\"Merge operation completed successfully.\")\n",
    "else:\n",
    "    # If the Delta table does not exist, create it by writing the data\n",
    "    userDF.write.format(\"delta\").mode(\"overwrite\").save(bronze_users_path)\n",
    "    print(\"Target Delta table created successfully.\")"
   ]
  },
  {
   "cell_type": "code",
   "execution_count": 0,
   "metadata": {
    "application/vnd.databricks.v1+cell": {
     "cellMetadata": {
      "byteLimit": 2048000,
      "rowLimit": 10000
     },
     "inputWidgets": {},
     "nuid": "7513f131-a704-4f1e-ad96-c13952b13a5e",
     "showTitle": false,
     "tableResultSettingsMap": {},
     "title": ""
    }
   },
   "outputs": [
    {
     "output_type": "display_data",
     "data": {
      "text/html": [
       "<style scoped>\n",
       "  .table-result-container {\n",
       "    max-height: 300px;\n",
       "    overflow: auto;\n",
       "  }\n",
       "  table, th, td {\n",
       "    border: 1px solid black;\n",
       "    border-collapse: collapse;\n",
       "  }\n",
       "  th, td {\n",
       "    padding: 5px;\n",
       "  }\n",
       "  th {\n",
       "    text-align: left;\n",
       "  }\n",
       "</style><div class='table-result-container'><table class='table-result'><thead style='background-color: white'><tr><th>path</th><th>name</th><th>size</th><th>modificationTime</th></tr></thead><tbody><tr><td>dbfs:/mnt/delta/bronze/tables/users/_delta_log/</td><td>_delta_log/</td><td>0</td><td>1737877583000</td></tr><tr><td>dbfs:/mnt/delta/bronze/tables/users/part-00000-91d03433-7d0e-492b-b0d5-533f6664b824.c000.snappy.parquet</td><td>part-00000-91d03433-7d0e-492b-b0d5-533f6664b824.c000.snappy.parquet</td><td>479600</td><td>1737918883000</td></tr><tr><td>dbfs:/mnt/delta/bronze/tables/users/part-00000-a1695dba-7d9b-4797-97b5-2ace33e01492.c000.snappy.parquet</td><td>part-00000-a1695dba-7d9b-4797-97b5-2ace33e01492.c000.snappy.parquet</td><td>479600</td><td>1737937294000</td></tr><tr><td>dbfs:/mnt/delta/bronze/tables/users/part-00000-ceaa8b3d-bf9c-4700-b436-434e60ade99b.c000.snappy.parquet</td><td>part-00000-ceaa8b3d-bf9c-4700-b436-434e60ade99b.c000.snappy.parquet</td><td>479600</td><td>1737877585000</td></tr></tbody></table></div>"
      ]
     },
     "metadata": {
      "application/vnd.databricks.v1+output": {
       "addedWidgets": {},
       "aggData": [],
       "aggError": "",
       "aggOverflow": false,
       "aggSchema": [],
       "aggSeriesLimitReached": false,
       "aggType": "",
       "arguments": {},
       "columnCustomDisplayInfos": {},
       "data": [
        [
         "dbfs:/mnt/delta/bronze/tables/users/_delta_log/",
         "_delta_log/",
         0,
         1737877583000
        ],
        [
         "dbfs:/mnt/delta/bronze/tables/users/part-00000-91d03433-7d0e-492b-b0d5-533f6664b824.c000.snappy.parquet",
         "part-00000-91d03433-7d0e-492b-b0d5-533f6664b824.c000.snappy.parquet",
         479600,
         1737918883000
        ],
        [
         "dbfs:/mnt/delta/bronze/tables/users/part-00000-a1695dba-7d9b-4797-97b5-2ace33e01492.c000.snappy.parquet",
         "part-00000-a1695dba-7d9b-4797-97b5-2ace33e01492.c000.snappy.parquet",
         479600,
         1737937294000
        ],
        [
         "dbfs:/mnt/delta/bronze/tables/users/part-00000-ceaa8b3d-bf9c-4700-b436-434e60ade99b.c000.snappy.parquet",
         "part-00000-ceaa8b3d-bf9c-4700-b436-434e60ade99b.c000.snappy.parquet",
         479600,
         1737877585000
        ]
       ],
       "datasetInfos": [],
       "dbfsResultPath": null,
       "isJsonSchema": true,
       "metadata": {
        "isDbfsCommandResult": false
       },
       "overflow": false,
       "plotOptions": {
        "customPlotOptions": {},
        "displayType": "table",
        "pivotAggregation": null,
        "pivotColumns": null,
        "xColumns": null,
        "yColumns": null
       },
       "removedWidgets": [],
       "schema": [
        {
         "metadata": "{}",
         "name": "path",
         "type": "\"string\""
        },
        {
         "metadata": "{}",
         "name": "name",
         "type": "\"string\""
        },
        {
         "metadata": "{}",
         "name": "size",
         "type": "\"long\""
        },
        {
         "metadata": "{}",
         "name": "modificationTime",
         "type": "\"long\""
        }
       ],
       "type": "table"
      }
     },
     "output_type": "display_data"
    }
   ],
   "source": [
    "%fs ls '/mnt/delta/bronze/tables/users'"
   ]
  },
  {
   "cell_type": "code",
   "execution_count": 0,
   "metadata": {
    "application/vnd.databricks.v1+cell": {
     "cellMetadata": {
      "byteLimit": 2048000,
      "rowLimit": 10000
     },
     "inputWidgets": {},
     "nuid": "6b65c8b3-960a-43f4-b9ab-5cc202db055a",
     "showTitle": false,
     "tableResultSettingsMap": {},
     "title": ""
    }
   },
   "outputs": [],
   "source": [
    "buyersDF.write.format('delta').mode('overwrite').save('/mnt/delta/bronze/tables/buyers')\n",
    "sellersDF.write.format('delta').mode('overwrite').save('/mnt/delta/bronze/tables/sellers')\n",
    "countriesDF.write.format('delta').mode('overwrite').save('/mnt/delta/bronze/tables/countries')"
   ]
  },
  {
   "cell_type": "code",
   "execution_count": 0,
   "metadata": {
    "application/vnd.databricks.v1+cell": {
     "cellMetadata": {},
     "inputWidgets": {},
     "nuid": "9d9c07e3-920f-4cad-af3d-5324e6a969a8",
     "showTitle": false,
     "tableResultSettingsMap": {},
     "title": ""
    }
   },
   "outputs": [],
   "source": []
  }
 ],
 "metadata": {
  "application/vnd.databricks.v1+notebook": {
   "computePreferences": null,
   "dashboards": [],
   "environmentMetadata": {
    "base_environment": "",
    "client": "1"
   },
   "language": "python",
   "notebookMetadata": {
    "mostRecentlyExecutedCommandWithImplicitDF": {
     "commandId": 8826553934191540,
     "dataframes": [
      "_sqldf"
     ]
    },
    "pythonIndentUnit": 4
   },
   "notebookName": "ecommerce_bronze",
   "widgets": {}
  },
  "language_info": {
   "name": "python"
  }
 },
 "nbformat": 4,
 "nbformat_minor": 0
}