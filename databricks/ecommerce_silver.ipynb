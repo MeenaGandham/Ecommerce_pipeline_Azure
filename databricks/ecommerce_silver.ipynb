{
 "cells": [
  {
   "cell_type": "code",
   "execution_count": 0,
   "metadata": {
    "application/vnd.databricks.v1+cell": {
     "cellMetadata": {
      "byteLimit": 2048000,
      "rowLimit": 10000
     },
     "inputWidgets": {},
     "nuid": "8a1aa617-2889-45e0-b851-15e7da7c3be0",
     "showTitle": false,
     "tableResultSettingsMap": {},
     "title": ""
    }
   },
   "outputs": [],
   "source": [
    "from pyspark.sql import SparkSession\n",
    "from pyspark.sql.functions import *\n",
    "from pyspark.sql.types import *"
   ]
  },
  {
   "cell_type": "code",
   "execution_count": 0,
   "metadata": {
    "application/vnd.databricks.v1+cell": {
     "cellMetadata": {
      "byteLimit": 2048000,
      "rowLimit": 10000
     },
     "inputWidgets": {},
     "nuid": "d9701e32-3a7f-4658-8a8e-6f60cd3f96ae",
     "showTitle": false,
     "tableResultSettingsMap": {},
     "title": ""
    }
   },
   "outputs": [],
   "source": [
    "spark = SparkSession.builder.appName('ecomdata').getOrCreate()"
   ]
  },
  {
   "cell_type": "code",
   "execution_count": 0,
   "metadata": {
    "application/vnd.databricks.v1+cell": {
     "cellMetadata": {
      "byteLimit": 2048000,
      "rowLimit": 10000
     },
     "inputWidgets": {},
     "nuid": "bcc62825-dfec-48e0-89c3-a0c889cf5e3b",
     "showTitle": false,
     "tableResultSettingsMap": {},
     "title": ""
    }
   },
   "outputs": [],
   "source": [
    "usersDF = spark.read.format('delta').load('/mnt/delta/bronze/tables/users')"
   ]
  },
  {
   "cell_type": "code",
   "execution_count": 0,
   "metadata": {
    "application/vnd.databricks.v1+cell": {
     "cellMetadata": {
      "byteLimit": 2048000,
      "rowLimit": 10000
     },
     "inputWidgets": {},
     "nuid": "1ea17ad3-4f91-4898-84f1-4b4749b06e51",
     "showTitle": false,
     "tableResultSettingsMap": {},
     "title": ""
    }
   },
   "outputs": [
    {
     "output_type": "stream",
     "name": "stdout",
     "output_type": "stream",
     "text": [
      "+--------------------+----+----------+--------+-----------------+---------------+-------------------+--------------+------------+----------------+--------------+--------------+------+----------------+-------------+---------+-------------+---------+-----------------+------------------+---------+-----------------+----------------+-----------+\n|      identifierHash|type|   country|language|socialNbFollowers|socialNbFollows|socialProductsLiked|productsListed|productsSold|productsPassRate|productsWished|productsBought|gender|civilityGenderId|civilityTitle|hasAnyApp|hasAndroidApp|hasIosApp|hasProfilePicture|daysSinceLastLogin|seniority|seniorityAsMonths|seniorityAsYears|countryCode|\n+--------------------+----+----------+--------+-----------------+---------------+-------------------+--------------+------------+----------------+--------------+--------------+------+----------------+-------------+---------+-------------+---------+-----------------+------------------+---------+-----------------+----------------+-----------+\n|-7279641312655250028|user|Etats-Unis|      en|                3|              8|                  0|             0|           0|             0.0|             0|             0|     F|               2|          mrs|    False|        False|    False|             True|               709|     3205|           106.83|             8.9|         us|\n|-1456013578740053406|user| Allemagne|      de|                3|              8|                  0|             0|           0|             0.0|             0|             0|     F|               2|          mrs|    False|        False|    False|             True|               709|     3205|           106.83|             8.9|         de|\n| 9006282053848196165|user|     Suède|      en|                3|              8|                  0|             0|           0|             0.0|             0|             0|     M|               1|           mr|     True|        False|     True|             True|               689|     3205|           106.83|             8.9|         se|\n|-7154634866120535654|user|   Turquie|      en|                3|              8|                  0|             0|           0|             0.0|             0|             0|     F|               2|          mrs|    False|        False|    False|             True|               709|     3205|           106.83|             8.9|         tr|\n| 2858299215060733023|user|    France|      en|                3|              8|                  0|             0|           0|             0.0|             0|             0|     M|               1|           mr|     True|        False|     True|             True|               709|     3205|           106.83|             8.9|         fr|\n+--------------------+----+----------+--------+-----------------+---------------+-------------------+--------------+------------+----------------+--------------+--------------+------+----------------+-------------+---------+-------------+---------+-----------------+------------------+---------+-----------------+----------------+-----------+\nonly showing top 5 rows\n\n"
     ]
    }
   ],
   "source": [
    "usersDF.show(5)"
   ]
  },
  {
   "cell_type": "code",
   "execution_count": 0,
   "metadata": {
    "application/vnd.databricks.v1+cell": {
     "cellMetadata": {
      "byteLimit": 2048000,
      "rowLimit": 10000
     },
     "inputWidgets": {},
     "nuid": "458b600d-5830-4466-82e8-e2d1c6805bfc",
     "showTitle": false,
     "tableResultSettingsMap": {},
     "title": ""
    },
    "jupyter": {
     "outputs_hidden": true
    }
   },
   "outputs": [
    {
     "output_type": "stream",
     "name": "stdout",
     "output_type": "stream",
     "text": [
      "+--------------------+----+----------+--------+-----------------+---------------+-------------------+--------------+------------+----------------+--------------+--------------+------+----------------+-------------+---------+-------------+---------+-----------------+------------------+---------+-----------------+----------------+-----------+\n|      identifierHash|type|   country|language|socialNbFollowers|socialNbFollows|socialProductsLiked|productsListed|productsSold|productsPassRate|productsWished|productsBought|gender|civilityGenderId|civilityTitle|hasAnyApp|hasAndroidApp|hasIosApp|hasProfilePicture|daysSinceLastLogin|seniority|seniorityAsMonths|seniorityAsYears|countryCode|\n+--------------------+----+----------+--------+-----------------+---------------+-------------------+--------------+------------+----------------+--------------+--------------+------+----------------+-------------+---------+-------------+---------+-----------------+------------------+---------+-----------------+----------------+-----------+\n|-7279641312655250028|user|Etats-Unis|      en|                3|              8|                  0|             0|           0|             0.0|             0|             0|     F|               2|          mrs|    False|        False|    False|             True|               709|     3205|           106.83|             8.9|         US|\n|-1456013578740053406|user| Allemagne|      de|                3|              8|                  0|             0|           0|             0.0|             0|             0|     F|               2|          mrs|    False|        False|    False|             True|               709|     3205|           106.83|             8.9|         DE|\n| 9006282053848196165|user|     Suède|      en|                3|              8|                  0|             0|           0|             0.0|             0|             0|     M|               1|           mr|     True|        False|     True|             True|               689|     3205|           106.83|             8.9|         SE|\n|-7154634866120535654|user|   Turquie|      en|                3|              8|                  0|             0|           0|             0.0|             0|             0|     F|               2|          mrs|    False|        False|    False|             True|               709|     3205|           106.83|             8.9|         TR|\n| 2858299215060733023|user|    France|      en|                3|              8|                  0|             0|           0|             0.0|             0|             0|     M|               1|           mr|     True|        False|     True|             True|               709|     3205|           106.83|             8.9|         FR|\n+--------------------+----+----------+--------+-----------------+---------------+-------------------+--------------+------------+----------------+--------------+--------------+------+----------------+-------------+---------+-------------+---------+-----------------+------------------+---------+-----------------+----------------+-----------+\nonly showing top 5 rows\n\n"
     ]
    }
   ],
   "source": [
    "# Normalize country codes to uppercase\n",
    "usersDF = usersDF.withColumn('countryCode', upper(col('countryCode')))\n",
    "usersDF.show(5)"
   ]
  },
  {
   "cell_type": "code",
   "execution_count": 0,
   "metadata": {
    "application/vnd.databricks.v1+cell": {
     "cellMetadata": {
      "byteLimit": 2048000,
      "rowLimit": 10000
     },
     "inputWidgets": {},
     "nuid": "96950a57-db97-4f13-aff8-cdc119feb9fa",
     "showTitle": false,
     "tableResultSettingsMap": {},
     "title": ""
    }
   },
   "outputs": [
    {
     "output_type": "stream",
     "name": "stdout",
     "output_type": "stream",
     "text": [
      "+--------+\n|language|\n+--------+\n|      en|\n|      de|\n|      es|\n|      it|\n|      fr|\n+--------+\n\n"
     ]
    }
   ],
   "source": [
    "usersDF.select('language').distinct().show()\n"
   ]
  },
  {
   "cell_type": "code",
   "execution_count": 0,
   "metadata": {
    "application/vnd.databricks.v1+cell": {
     "cellMetadata": {
      "byteLimit": 2048000,
      "rowLimit": 10000
     },
     "inputWidgets": {},
     "nuid": "b11d2af3-7118-473f-afe9-c32c63c44adb",
     "showTitle": false,
     "tableResultSettingsMap": {},
     "title": ""
    }
   },
   "outputs": [],
   "source": [
    "usersDF = usersDF.withColumn('language_full', when(col('language')=='en', 'English')\n",
    "                                          .when(col('language')=='fr', 'French')\n",
    "                                          .when(col('language')=='es', 'Spanish')\n",
    "                                          .when(col('language')=='de', 'German')\n",
    "                                          .when(col('language')=='it', 'Italian'))"
   ]
  },
  {
   "cell_type": "code",
   "execution_count": 0,
   "metadata": {
    "application/vnd.databricks.v1+cell": {
     "cellMetadata": {
      "byteLimit": 2048000,
      "rowLimit": 10000
     },
     "inputWidgets": {},
     "nuid": "bf408a66-6229-47b0-8774-5351bb250bab",
     "showTitle": false,
     "tableResultSettingsMap": {},
     "title": ""
    }
   },
   "outputs": [
    {
     "output_type": "stream",
     "name": "stdout",
     "output_type": "stream",
     "text": [
      "+-------------+--------+\n|language_full|language|\n+-------------+--------+\n|      Italian|      it|\n|      Spanish|      es|\n|       French|      fr|\n|      English|      en|\n|       German|      de|\n+-------------+--------+\n\n"
     ]
    }
   ],
   "source": [
    "usersDF.select('language_full','language').distinct().show()"
   ]
  },
  {
   "cell_type": "code",
   "execution_count": 0,
   "metadata": {
    "application/vnd.databricks.v1+cell": {
     "cellMetadata": {
      "byteLimit": 2048000,
      "rowLimit": 10000
     },
     "inputWidgets": {},
     "nuid": "1e4d0c6b-8f81-49e7-8855-b49904ee24bf",
     "showTitle": false,
     "tableResultSettingsMap": {},
     "title": ""
    }
   },
   "outputs": [
    {
     "output_type": "stream",
     "name": "stdout",
     "output_type": "stream",
     "text": [
      "+------+\n|gender|\n+------+\n|     F|\n|     M|\n+------+\n\n"
     ]
    }
   ],
   "source": [
    "usersDF.select('gender').distinct().show()"
   ]
  },
  {
   "cell_type": "code",
   "execution_count": 0,
   "metadata": {
    "application/vnd.databricks.v1+cell": {
     "cellMetadata": {
      "byteLimit": 2048000,
      "rowLimit": 10000
     },
     "inputWidgets": {},
     "nuid": "6d866c84-dcef-4efd-a8be-c5f3df50499d",
     "showTitle": false,
     "tableResultSettingsMap": {},
     "title": ""
    }
   },
   "outputs": [],
   "source": [
    "# Correcting potential data entry errors in `gender` column\n",
    "usersDF = usersDF.withColumn('gender',expr('CASE WHEN gender LIKE \"M%\" THEN \"MALE\"' +  'WHEN gender LIKE \"F%\" THEN \"FEMALE\"' + 'ELSE \"OTHER\" END'))"
   ]
  },
  {
   "cell_type": "code",
   "execution_count": 0,
   "metadata": {
    "application/vnd.databricks.v1+cell": {
     "cellMetadata": {
      "byteLimit": 2048000,
      "rowLimit": 10000
     },
     "inputWidgets": {},
     "nuid": "88127af2-e686-4e08-a03d-d86011627815",
     "showTitle": false,
     "tableResultSettingsMap": {},
     "title": ""
    }
   },
   "outputs": [
    {
     "output_type": "stream",
     "name": "stdout",
     "output_type": "stream",
     "text": [
      "+------+\n|gender|\n+------+\n|  MALE|\n|FEMALE|\n+------+\n\n"
     ]
    }
   ],
   "source": [
    "usersDF.select('gender').distinct().show()"
   ]
  },
  {
   "cell_type": "code",
   "execution_count": 0,
   "metadata": {
    "application/vnd.databricks.v1+cell": {
     "cellMetadata": {
      "byteLimit": 2048000,
      "rowLimit": 10000
     },
     "inputWidgets": {},
     "nuid": "c87b9240-a82a-4945-b150-61ec08e124d1",
     "showTitle": false,
     "tableResultSettingsMap": {},
     "title": ""
    }
   },
   "outputs": [],
   "source": [
    "# Using `regexp_replace` to clean `civilitytitle` values\n",
    "usersDF = usersDF.withColumn('civilitytitle', regexp_replace('civilitytitle', \"(mrs|miss)\", \"ms\"))"
   ]
  },
  {
   "cell_type": "code",
   "execution_count": 0,
   "metadata": {
    "application/vnd.databricks.v1+cell": {
     "cellMetadata": {
      "byteLimit": 2048000,
      "rowLimit": 10000
     },
     "inputWidgets": {},
     "nuid": "1525d7eb-4b95-4d14-bdd4-4503e4ca7977",
     "showTitle": false,
     "tableResultSettingsMap": {},
     "title": ""
    }
   },
   "outputs": [
    {
     "output_type": "stream",
     "name": "stdout",
     "output_type": "stream",
     "text": [
      "+-------------+\n|civilitytitle|\n+-------------+\n|           ms|\n|           mr|\n+-------------+\n\n"
     ]
    }
   ],
   "source": [
    "usersDF.select('civilitytitle').distinct().show()"
   ]
  },
  {
   "cell_type": "code",
   "execution_count": 0,
   "metadata": {
    "application/vnd.databricks.v1+cell": {
     "cellMetadata": {
      "byteLimit": 2048000,
      "rowLimit": 10000
     },
     "inputWidgets": {},
     "nuid": "4f694851-43ba-4e98-966c-6aab68b44b25",
     "showTitle": false,
     "tableResultSettingsMap": {},
     "title": ""
    }
   },
   "outputs": [],
   "source": [
    "# Derive new column `years_since_last_login` from `dayssincelastlogin`\n",
    "usersDF = usersDF.withColumn(\"years_since_last_login\", col(\"dayssincelastlogin\") / 365)"
   ]
  },
  {
   "cell_type": "code",
   "execution_count": 0,
   "metadata": {
    "application/vnd.databricks.v1+cell": {
     "cellMetadata": {
      "byteLimit": 2048000,
      "rowLimit": 10000
     },
     "inputWidgets": {},
     "nuid": "2ee67b18-175a-43ea-9055-5e435718f759",
     "showTitle": false,
     "tableResultSettingsMap": {},
     "title": ""
    }
   },
   "outputs": [
    {
     "output_type": "stream",
     "name": "stdout",
     "output_type": "stream",
     "text": [
      "+----------------------+------------------+\n|years_since_last_login|dayssincelastlogin|\n+----------------------+------------------+\n|    0.6493150684931507|               237|\n|   0.27945205479452057|               102|\n|                   0.6|               219|\n|    1.5835616438356164|               578|\n|    0.5068493150684932|               185|\n|    0.8438356164383561|               308|\n|    1.4109589041095891|               515|\n|    1.6767123287671233|               612|\n|     1.906849315068493|               696|\n|    1.1232876712328768|               410|\n|     0.989041095890411|               361|\n|     0.810958904109589|               296|\n|    1.4986301369863013|               547|\n|   0.13150684931506848|                48|\n|    0.8328767123287671|               304|\n|    1.4273972602739726|               521|\n|    1.3753424657534246|               502|\n|     0.915068493150685|               334|\n|    1.1205479452054794|               409|\n|    0.5232876712328767|               191|\n+----------------------+------------------+\nonly showing top 20 rows\n\n"
     ]
    }
   ],
   "source": [
    "usersDF.select('years_since_last_login','dayssincelastlogin').distinct().show()"
   ]
  },
  {
   "cell_type": "code",
   "execution_count": 0,
   "metadata": {
    "application/vnd.databricks.v1+cell": {
     "cellMetadata": {
      "byteLimit": 2048000,
      "rowLimit": 10000
     },
     "inputWidgets": {},
     "nuid": "179f0116-9f74-4bfb-9cbc-87fc2490f72b",
     "showTitle": false,
     "tableResultSettingsMap": {},
     "title": ""
    }
   },
   "outputs": [
    {
     "output_type": "stream",
     "name": "stdout",
     "output_type": "stream",
     "text": [
      "+-----------------+---------+\n|account_age_years|seniority|\n+-----------------+---------+\n|             8.77|     3201|\n|             8.78|     3205|\n|             8.78|     3204|\n|             8.77|     3200|\n|             8.77|     3202|\n|             8.78|     3203|\n+-----------------+---------+\n\n"
     ]
    }
   ],
   "source": [
    "usersDF = usersDF.withColumn(\"account_age_years\", round(col(\"seniority\") / 365, 2))\n",
    "usersDF.select('account_age_years','seniority').distinct().show()"
   ]
  },
  {
   "cell_type": "code",
   "execution_count": 0,
   "metadata": {
    "application/vnd.databricks.v1+cell": {
     "cellMetadata": {
      "byteLimit": 2048000,
      "rowLimit": 10000
     },
     "inputWidgets": {},
     "nuid": "b842db6b-acd5-430b-b1a5-86a2fbcae7d4",
     "showTitle": false,
     "tableResultSettingsMap": {},
     "title": ""
    }
   },
   "outputs": [],
   "source": [
    "#categorize into `account_age_group`\n",
    "\n",
    "\n",
    "usersDF = usersDF.withColumn('account_age_group',when(col('account_age_years') < 1, 'Newbie')\\\n",
    "    .when((col('account_age_years') >= 1) & (col('account_age_years') < 3), 'Intermediate')\\\n",
    "    .otherwise(\"Experienced\"))\n",
    "    "
   ]
  },
  {
   "cell_type": "code",
   "execution_count": 0,
   "metadata": {
    "application/vnd.databricks.v1+cell": {
     "cellMetadata": {
      "byteLimit": 2048000,
      "rowLimit": 10000
     },
     "inputWidgets": {},
     "nuid": "cdf30cdf-9e8f-4952-8e6e-2fb0b25c0807",
     "showTitle": false,
     "tableResultSettingsMap": {},
     "title": ""
    }
   },
   "outputs": [
    {
     "output_type": "stream",
     "name": "stdout",
     "output_type": "stream",
     "text": [
      "+-----------------+-----------------+\n|account_age_group|account_age_years|\n+-----------------+-----------------+\n|      Experienced|             8.78|\n|      Experienced|             8.78|\n|      Experienced|             8.78|\n|      Experienced|             8.78|\n|      Experienced|             8.78|\n|      Experienced|             8.78|\n|      Experienced|             8.78|\n|      Experienced|             8.78|\n|      Experienced|             8.78|\n|      Experienced|             8.78|\n|      Experienced|             8.78|\n|      Experienced|             8.78|\n|      Experienced|             8.78|\n|      Experienced|             8.78|\n|      Experienced|             8.78|\n|      Experienced|             8.78|\n|      Experienced|             8.78|\n|      Experienced|             8.78|\n|      Experienced|             8.78|\n|      Experienced|             8.78|\n+-----------------+-----------------+\nonly showing top 20 rows\n\n"
     ]
    }
   ],
   "source": [
    "usersDF.select('account_age_group','account_age_years').show()"
   ]
  },
  {
   "cell_type": "code",
   "execution_count": 0,
   "metadata": {
    "application/vnd.databricks.v1+cell": {
     "cellMetadata": {
      "byteLimit": 2048000,
      "rowLimit": 10000
     },
     "inputWidgets": {},
     "nuid": "35c2f537-e0b7-4821-9d0b-8868a7fdfb14",
     "showTitle": false,
     "tableResultSettingsMap": {},
     "title": ""
    }
   },
   "outputs": [],
   "source": [
    "# Add a column with the current year for comparison\n",
    "usersDF = usersDF.withColumn(\"current_year\", year(current_date()))\n",
    "     "
   ]
  },
  {
   "cell_type": "code",
   "execution_count": 0,
   "metadata": {
    "application/vnd.databricks.v1+cell": {
     "cellMetadata": {
      "byteLimit": 2048000,
      "rowLimit": 10000
     },
     "inputWidgets": {},
     "nuid": "86e1517d-b916-4589-9010-a5b93d27f981",
     "showTitle": false,
     "tableResultSettingsMap": {},
     "title": ""
    }
   },
   "outputs": [],
   "source": [
    "# Creatively combining strings to form a unique user descriptor\n",
    "usersDF = usersDF.withColumn(\"user_descriptor\", \n",
    "                             concat(col(\"gender\"), lit(\"_\"), \n",
    "                                    col(\"countrycode\"), lit(\"_\"), \n",
    "                                    expr(\"substring(civilitytitle, 1, 3)\"), lit(\"_\"), \n",
    "                                    col(\"language_full\")))"
   ]
  },
  {
   "cell_type": "code",
   "execution_count": 0,
   "metadata": {
    "application/vnd.databricks.v1+cell": {
     "cellMetadata": {
      "byteLimit": 2048000,
      "rowLimit": 10000
     },
     "inputWidgets": {},
     "nuid": "a1187360-7a3a-4558-accd-636613afaf06",
     "showTitle": false,
     "tableResultSettingsMap": {},
     "title": ""
    }
   },
   "outputs": [],
   "source": [
    "usersDF = usersDF.withColumn(\"flag_long_title\", length(col(\"civilitytitle\")) > 10)\n"
   ]
  },
  {
   "cell_type": "code",
   "execution_count": 0,
   "metadata": {
    "application/vnd.databricks.v1+cell": {
     "cellMetadata": {
      "byteLimit": 2048000,
      "rowLimit": 10000
     },
     "inputWidgets": {},
     "nuid": "c648215b-c782-4e57-ba85-10979af639c7",
     "showTitle": false,
     "tableResultSettingsMap": {},
     "title": ""
    }
   },
   "outputs": [],
   "source": [
    "usersDF = usersDF.withColumn(\"hasanyapp\", col(\"hasanyapp\").cast(\"boolean\"))\n",
    "usersDF = usersDF.withColumn(\"hasandroidapp\", col(\"hasandroidapp\").cast(\"boolean\"))\n",
    "usersDF = usersDF.withColumn(\"hasiosapp\", col(\"hasiosapp\").cast(\"boolean\"))\n",
    "usersDF = usersDF.withColumn(\"hasprofilepicture\", col(\"hasprofilepicture\").cast(\"boolean\"))\n",
    "\n",
    "\n",
    "usersDF = usersDF.withColumn(\"socialnbfollowers\", col(\"socialnbfollowers\").cast(IntegerType()))\n",
    "usersDF = usersDF.withColumn(\"socialnbfollows\", col(\"socialnbfollows\").cast(IntegerType()))\n",
    "\n",
    "usersDF = usersDF.withColumn(\"productspassrate\", col(\"productspassrate\").cast(DecimalType(10, 2)))\n",
    "usersDF = usersDF.withColumn(\"seniorityasmonths\", col(\"seniorityasmonths\").cast(DecimalType(10, 2)))\n",
    "usersDF = usersDF.withColumn(\"seniorityasyears\", col(\"seniorityasyears\").cast(DecimalType(10, 2)))"
   ]
  },
  {
   "cell_type": "code",
   "execution_count": 0,
   "metadata": {
    "application/vnd.databricks.v1+cell": {
     "cellMetadata": {
      "byteLimit": 2048000,
      "rowLimit": 10000
     },
     "inputWidgets": {},
     "nuid": "7fbf42ee-3f97-477c-a609-718b8bc6b124",
     "showTitle": false,
     "tableResultSettingsMap": {},
     "title": ""
    }
   },
   "outputs": [],
   "source": [
    "usersDF = usersDF.withColumn(\"dayssincelastlogin\",\n",
    "                             when(col(\"dayssincelastlogin\").isNotNull(),\n",
    "                                  col(\"dayssincelastlogin\").cast(IntegerType()))\n",
    "                             .otherwise(0))"
   ]
  },
  {
   "cell_type": "code",
   "execution_count": 0,
   "metadata": {
    "application/vnd.databricks.v1+cell": {
     "cellMetadata": {
      "byteLimit": 2048000,
      "rowLimit": 10000
     },
     "inputWidgets": {},
     "nuid": "a1e78371-1d47-4f96-9d87-0b754cfce153",
     "showTitle": false,
     "tableResultSettingsMap": {},
     "title": ""
    }
   },
   "outputs": [],
   "source": [
    "usersDF.write.format(\"delta\").mode(\"overwrite\").save(\"/mnt/delta/silver/tables/users\")\n"
   ]
  },
  {
   "cell_type": "code",
   "execution_count": 0,
   "metadata": {
    "application/vnd.databricks.v1+cell": {
     "cellMetadata": {
      "byteLimit": 2048000,
      "rowLimit": 10000
     },
     "inputWidgets": {},
     "nuid": "0794e7f6-1faa-46c2-b905-2982a84210c9",
     "showTitle": false,
     "tableResultSettingsMap": {},
     "title": ""
    }
   },
   "outputs": [],
   "source": [
    "#/mnt/delta/bronze/tables/users\n",
    "buyersDF = spark.read.format(\"delta\").load(\"/mnt/delta/bronze/tables/buyers\")"
   ]
  },
  {
   "cell_type": "code",
   "execution_count": 0,
   "metadata": {
    "application/vnd.databricks.v1+cell": {
     "cellMetadata": {
      "byteLimit": 2048000,
      "rowLimit": 10000
     },
     "inputWidgets": {},
     "nuid": "1f8eebba-8635-4007-921d-5f62570493bc",
     "showTitle": false,
     "tableResultSettingsMap": {},
     "title": ""
    }
   },
   "outputs": [],
   "source": [
    "# Casting Integer columns\n",
    "integer_columns = [\n",
    "    'buyers', 'topbuyers', 'femalebuyers', 'malebuyers',\n",
    "    'topfemalebuyers', 'topmalebuyers', 'totalproductsbought',\n",
    "    'totalproductswished', 'totalproductsliked', 'toptotalproductsbought',\n",
    "    'toptotalproductswished', 'toptotalproductsliked'\n",
    "]\n",
    "\n",
    "for column_name in integer_columns:\n",
    "    buyersDF = buyersDF.withColumn(column_name, col(column_name).cast(IntegerType()))\n",
    "     \n",
    "\n",
    "# Casting Decimal columns\n",
    "decimal_columns = [\n",
    "    'topbuyerratio', 'femalebuyersratio', 'topfemalebuyersratio',\n",
    "    'boughtperwishlistratio', 'boughtperlikeratio', 'topboughtperwishlistratio',\n",
    "    'topboughtperlikeratio', 'meanproductsbought', 'meanproductswished',\n",
    "    'meanproductsliked', 'topmeanproductsbought', 'topmeanproductswished',\n",
    "    'topmeanproductsliked', 'meanofflinedays', 'topmeanofflinedays',\n",
    "    'meanfollowers', 'meanfollowing', 'topmeanfollowers', 'topmeanfollowing'\n",
    "]\n",
    "\n",
    "for column_name in decimal_columns:\n",
    "    buyersDF = buyersDF.withColumn(column_name, col(column_name).cast(DecimalType(10, 2)))"
   ]
  },
  {
   "cell_type": "code",
   "execution_count": 0,
   "metadata": {
    "application/vnd.databricks.v1+cell": {
     "cellMetadata": {
      "byteLimit": 2048000,
      "rowLimit": 10000
     },
     "inputWidgets": {},
     "nuid": "1968b8d2-16e0-4212-ac85-0fae0d90ab15",
     "showTitle": false,
     "tableResultSettingsMap": {},
     "title": ""
    }
   },
   "outputs": [],
   "source": [
    "# Normalize country names\n",
    "buyersDF = buyersDF.withColumn(\"country\", initcap(col(\"country\")))\n",
    "\n",
    "for col_name in integer_columns:\n",
    "    buyersDF = buyersDF.fillna({col_name: 0})\n",
    "\n",
    "# Calculate the ratio of female to male buyers\n",
    "buyersDF = buyersDF.withColumn(\"female_to_male_ratio\", \n",
    "                               round(col(\"femalebuyers\") / (col(\"malebuyers\") + 1), 2))\n",
    "\n",
    "# Determine the market potential by comparing wishlist and purchases\n",
    "buyersDF = buyersDF.withColumn(\"wishlist_to_purchase_ratio\", \n",
    "                               round(col(\"totalproductswished\") / (col(\"totalproductsbought\") + 1), 2))\n",
    "\n",
    "# Tag countries with a high engagement ratio\n",
    "high_engagement_threshold = 0.5\n",
    "buyersDF = buyersDF.withColumn(\"high_engagement\",\n",
    "                               when(col(\"boughtperwishlistratio\") > high_engagement_threshold, True)\n",
    "                               .otherwise(False))\n",
    "                               \n",
    "    # Flag markets with increasing female buyer participation\n",
    "buyersDF = buyersDF.withColumn(\"growing_female_market\",\n",
    "                               when(col(\"femalebuyersratio\") > col(\"topfemalebuyersratio\"), True)\n",
    "                               .otherwise(False))\n"
   ]
  },
  {
   "cell_type": "code",
   "execution_count": 0,
   "metadata": {
    "application/vnd.databricks.v1+cell": {
     "cellMetadata": {
      "byteLimit": 2048000,
      "rowLimit": 10000
     },
     "inputWidgets": {},
     "nuid": "63214ded-98b0-4aac-a659-95e42cbbcada",
     "showTitle": false,
     "tableResultSettingsMap": {},
     "title": ""
    }
   },
   "outputs": [],
   "source": [
    "buyersDF.write.format(\"delta\").mode(\"overwrite\").save(\"/mnt/delta/silver/tables/buyers\")\n"
   ]
  },
  {
   "cell_type": "code",
   "execution_count": 0,
   "metadata": {
    "application/vnd.databricks.v1+cell": {
     "cellMetadata": {
      "byteLimit": 2048000,
      "rowLimit": 10000
     },
     "inputWidgets": {},
     "nuid": "29d0419d-d282-452e-908a-e1feccc447eb",
     "showTitle": false,
     "tableResultSettingsMap": {},
     "title": ""
    }
   },
   "outputs": [],
   "source": [
    "sellersDF = spark.read.format(\"delta\").load(\"/mnt/delta/bronze/tables/sellers\")"
   ]
  },
  {
   "cell_type": "code",
   "execution_count": 0,
   "metadata": {
    "application/vnd.databricks.v1+cell": {
     "cellMetadata": {
      "byteLimit": 2048000,
      "rowLimit": 10000
     },
     "inputWidgets": {},
     "nuid": "1cef4733-bca7-4273-820c-d91edd5ca816",
     "showTitle": false,
     "tableResultSettingsMap": {},
     "title": ""
    }
   },
   "outputs": [],
   "source": [
    "sellersDF = sellersDF \\\n",
    "    .withColumn(\"nbsellers\", col(\"nbsellers\").cast(IntegerType())) \\\n",
    "    .withColumn(\"meanproductssold\", col(\"meanproductssold\").cast(DecimalType(10, 2))) \\\n",
    "    .withColumn(\"meanproductslisted\", col(\"meanproductslisted\").cast(DecimalType(10, 2))) \\\n",
    "    .withColumn(\"meansellerpassrate\", col(\"meansellerpassrate\").cast(DecimalType(10, 2))) \\\n",
    "    .withColumn(\"totalproductssold\", col(\"totalproductssold\").cast(IntegerType())) \\\n",
    "    .withColumn(\"totalproductslisted\", col(\"totalproductslisted\").cast(IntegerType())) \\\n",
    "    .withColumn(\"meanproductsbought\", col(\"meanproductsbought\").cast(DecimalType(10, 2))) \\\n",
    "    .withColumn(\"meanproductswished\", col(\"meanproductswished\").cast(DecimalType(10, 2))) \\\n",
    "    .withColumn(\"meanproductsliked\", col(\"meanproductsliked\").cast(DecimalType(10, 2))) \\\n",
    "    .withColumn(\"totalbought\", col(\"totalbought\").cast(IntegerType())) \\\n",
    "    .withColumn(\"totalwished\", col(\"totalwished\").cast(IntegerType())) \\\n",
    "    .withColumn(\"totalproductsliked\", col(\"totalproductsliked\").cast(IntegerType())) \\\n",
    "    .withColumn(\"meanfollowers\", col(\"meanfollowers\").cast(DecimalType(10, 2))) \\\n",
    "    .withColumn(\"meanfollows\", col(\"meanfollows\").cast(DecimalType(10, 2))) \\\n",
    "    .withColumn(\"percentofappusers\", col(\"percentofappusers\").cast(DecimalType(10, 2))) \\\n",
    "    .withColumn(\"percentofiosusers\", col(\"percentofiosusers\").cast(DecimalType(10, 2))) \\\n",
    "    .withColumn(\"meanseniority\", col(\"meanseniority\").cast(DecimalType(10, 2)))\n",
    "     "
   ]
  },
  {
   "cell_type": "code",
   "execution_count": 0,
   "metadata": {
    "application/vnd.databricks.v1+cell": {
     "cellMetadata": {
      "byteLimit": 2048000,
      "rowLimit": 10000
     },
     "inputWidgets": {},
     "nuid": "aadb6555-6bac-4dc3-a1d5-e295268cf51c",
     "showTitle": false,
     "tableResultSettingsMap": {},
     "title": ""
    }
   },
   "outputs": [],
   "source": [
    "# Normalize country names and gender values\n",
    "sellersDF = sellersDF.withColumn(\"country\", initcap(col(\"country\"))) \\\n",
    "                                                .withColumn(\"sex\", upper(col(\"sex\")))\n",
    "\n",
    "\n",
    "#Add a column to categorize the number of sellers\n",
    "sellersDF = sellersDF.withColumn(\"seller_size_category\", \n",
    "                               when(col(\"nbsellers\") < 500, \"Small\") \\\n",
    "                               .when((col(\"nbsellers\") >= 500) & (col(\"nbsellers\") < 2000), \"Medium\") \\\n",
    "                               .otherwise(\"Large\"))\n",
    "\n",
    "# Calculate the mean products listed per seller as an indicator of seller activity\n",
    "sellersDF = sellersDF.withColumn(\"mean_products_listed_per_seller\", \n",
    "                               round(col(\"totalproductslisted\") / col(\"nbsellers\"), 2))\n",
    "\n",
    "# Identify markets with high seller pass rate\n",
    "sellersDF = sellersDF.withColumn(\"high_seller_pass_rate\", \n",
    "                               when(col(\"meansellerpassrate\") > 0.75, \"High\") \\\n",
    "                               .otherwise(\"Normal\"))\n",
    "\n",
    "mean_pass_rate = sellersDF.select(round(avg(\"meansellerpassrate\"), 2).alias(\"avg_pass_rate\")).collect()[0][\"avg_pass_rate\"]\n",
    "\n",
    "sellersDF = sellersDF.withColumn(\"meansellerpassrate\",\n",
    "                                 when(col(\"meansellerpassrate\").isNull(), mean_pass_rate)\n",
    "                                 .otherwise(col(\"meansellerpassrate\")))\n",
    "                                 \n",
    "# OR CAN USE : sellersDF = sellersDF.fillna({\"meansellerpassrate\": mean_pass_rate})\n",
    "sellersDF.write.format(\"delta\").mode(\"overwrite\").save(\"/mnt/delta/silver/tables/sellers\")\n"
   ]
  },
  {
   "cell_type": "code",
   "execution_count": 0,
   "metadata": {
    "application/vnd.databricks.v1+cell": {
     "cellMetadata": {
      "byteLimit": 2048000,
      "rowLimit": 10000
     },
     "inputWidgets": {},
     "nuid": "022e8675-43ca-4ed4-a395-ab7e354f0482",
     "showTitle": false,
     "tableResultSettingsMap": {},
     "title": ""
    }
   },
   "outputs": [],
   "source": [
    "countriesDF = spark.read.format(\"delta\").load(\"/mnt/delta/bronze/tables/countries\")\n",
    "\n",
    "countriesDF = countriesDF \\\n",
    "    .withColumn(\"sellers\", col(\"sellers\").cast(IntegerType())) \\\n",
    "    .withColumn(\"topsellers\", col(\"topsellers\").cast(IntegerType())) \\\n",
    "    .withColumn(\"topsellerratio\", col(\"topsellerratio\").cast(DecimalType(10, 2))) \\\n",
    "    .withColumn(\"femalesellersratio\", col(\"femalesellersratio\").cast(DecimalType(10, 2))) \\\n",
    "    .withColumn(\"topfemalesellersratio\", col(\"topfemalesellersratio\").cast(DecimalType(10, 2))) \\\n",
    "    .withColumn(\"femalesellers\", col(\"femalesellers\").cast(IntegerType())) \\\n",
    "    .withColumn(\"malesellers\", col(\"malesellers\").cast(IntegerType())) \\\n",
    "    .withColumn(\"topfemalesellers\", col(\"topfemalesellers\").cast(IntegerType())) \\\n",
    "    .withColumn(\"topmalesellers\", col(\"topmalesellers\").cast(IntegerType())) \\\n",
    "    .withColumn(\"countrysoldratio\", col(\"countrysoldratio\").cast(DecimalType(10, 2))) \\\n",
    "    .withColumn(\"bestsoldratio\", col(\"bestsoldratio\").cast(DecimalType(10, 2))) \\\n",
    "    .withColumn(\"toptotalproductssold\", col(\"toptotalproductssold\").cast(IntegerType())) \\\n",
    "    .withColumn(\"totalproductssold\", col(\"totalproductssold\").cast(IntegerType())) \\\n",
    "    .withColumn(\"toptotalproductslisted\", col(\"toptotalproductslisted\").cast(IntegerType())) \\\n",
    "    .withColumn(\"totalproductslisted\", col(\"totalproductslisted\").cast(IntegerType())) \\\n",
    "    .withColumn(\"topmeanproductssold\", col(\"topmeanproductssold\").cast(DecimalType(10, 2))) \\\n",
    "    .withColumn(\"topmeanproductslisted\", col(\"topmeanproductslisted\").cast(DecimalType(10, 2))) \\\n",
    "    .withColumn(\"meanproductssold\", col(\"meanproductssold\").cast(DecimalType(10, 2))) \\\n",
    "    .withColumn(\"meanproductslisted\", col(\"meanproductslisted\").cast(DecimalType(10, 2))) \\\n",
    "    .withColumn(\"meanofflinedays\", col(\"meanofflinedays\").cast(DecimalType(10, 2))) \\\n",
    "    .withColumn(\"topmeanofflinedays\", col(\"topmeanofflinedays\").cast(DecimalType(10, 2))) \\\n",
    "    .withColumn(\"meanfollowers\", col(\"meanfollowers\").cast(DecimalType(10, 2))) \\\n",
    "    .withColumn(\"meanfollowing\", col(\"meanfollowing\").cast(DecimalType(10, 2))) \\\n",
    "    .withColumn(\"topmeanfollowers\", col(\"topmeanfollowers\").cast(DecimalType(10, 2))) \\\n",
    "    .withColumn(\"topmeanfollowing\", col(\"topmeanfollowing\").cast(DecimalType(10, 2)))\n",
    "\n",
    "countriesDF = countriesDF.withColumn(\"country\", initcap(col(\"country\")))\n",
    "\n",
    "\n",
    "# Calculating the ratio of top sellers to total sellers\n",
    "countriesDF = countriesDF.withColumn(\"top_seller_ratio\", \n",
    "                                        round(col(\"topsellers\") / col(\"sellers\"), 2))\n",
    "\n",
    "# countriesDF countries with a high ratio of female sellers\n",
    "countriesDF = countriesDF.withColumn(\"high_female_seller_ratio\", \n",
    "                                        when(col(\"femalesellersratio\") > 0.5, True).otherwise(False))\n",
    "\n",
    "# Adding a performance indicator based on the sold/listed ratio\n",
    "countriesDF = countriesDF.withColumn(\"performance_indicator\", \n",
    "                                        round(col(\"toptotalproductssold\") / (col(\"toptotalproductslisted\") + 1), 2))\n",
    "\n",
    "# Flag countries with exceptionally high performance\n",
    "performance_threshold = 0.8\n",
    "countriesDF = countriesDF.withColumn(\"high_performance\", \n",
    "                                        when(col(\"performance_indicator\") > performance_threshold, True).otherwise(False))\n",
    "\n",
    "countriesDF = countriesDF.withColumn(\"activity_level\",\n",
    "                                       when(col(\"meanofflinedays\") < 30, \"Highly Active\")\n",
    "                                       .when((col(\"meanofflinedays\") >= 30) & (col(\"meanofflinedays\") < 60), \"Moderately Active\")\n",
    "                                       .otherwise(\"Low Activity\"))\n",
    "\n",
    "\n",
    "countriesDF.write.format(\"delta\").mode(\"overwrite\").save(\"/mnt/delta/silver/tables/countries\")"
   ]
  },
  {
   "cell_type": "code",
   "execution_count": 0,
   "metadata": {
    "application/vnd.databricks.v1+cell": {
     "cellMetadata": {},
     "inputWidgets": {},
     "nuid": "6cd790fc-f19e-47b0-9267-7e17578e187a",
     "showTitle": false,
     "tableResultSettingsMap": {},
     "title": ""
    }
   },
   "outputs": [],
   "source": []
  }
 ],
 "metadata": {
  "application/vnd.databricks.v1+notebook": {
   "computePreferences": null,
   "dashboards": [],
   "environmentMetadata": {
    "base_environment": "",
    "client": "1"
   },
   "language": "python",
   "notebookMetadata": {
    "pythonIndentUnit": 4
   },
   "notebookName": "ecommerce_silver",
   "widgets": {}
  },
  "language_info": {
   "name": "python"
  }
 },
 "nbformat": 4,
 "nbformat_minor": 0
}